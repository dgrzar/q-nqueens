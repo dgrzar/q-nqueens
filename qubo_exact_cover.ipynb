{
 "cells": [
  {
   "cell_type": "code",
   "execution_count": 11,
   "metadata": {},
   "outputs": [],
   "source": [
    "from collections import Counter\n",
    "\n",
    "import numpy as np\n",
    "import matplotlib\n",
    "# matplotlib.use(\"agg\")    # must select backend before importing pyplot\n",
    "import matplotlib.pyplot as plt\n",
    "from dimod import BinaryQuadraticModel\n",
    "\n",
    "from neal import SimulatedAnnealingSampler\n",
    "from dwave.system import LeapHybridSampler\n",
    "from dwave.system import DWaveSampler, EmbeddingComposite"
   ]
  },
  {
   "cell_type": "code",
   "execution_count": 12,
   "metadata": {},
   "outputs": [],
   "source": [
    "sampler_simu = SimulatedAnnealingSampler()\n",
    "sampler_real = EmbeddingComposite(DWaveSampler())\n",
    "sampler_leap = LeapHybridSampler()"
   ]
  },
  {
   "cell_type": "code",
   "execution_count": 13,
   "metadata": {},
   "outputs": [],
   "source": [
    "def exact_cover_bqm(problem_set, subsets):  \n",
    "    \"\"\"Returns a BQM for an exact cover.\n",
    " \n",
    "    An exact cover is a collection of subsets of `problem_set` that contains every \n",
    "    element in `problem_set` exactly once.\n",
    "    \n",
    "    Args:\n",
    "        problem_set : iterable\n",
    "            An iterable of unique numbers.\n",
    "\n",
    "        subsets : list(iterable(numeric))\n",
    "            A list of subsets of `problem_set` used to find an exact cover.\n",
    "    \"\"\"\n",
    "    bqm = BinaryQuadraticModel({}, {}, 0, 'BINARY')\n",
    "\n",
    "    for element in problem_set:\n",
    "        bqm.offset += 1\n",
    "\n",
    "        for i in range(len(subsets)):    \n",
    "            if element in subsets[i]:\n",
    "                bqm.add_variable(i, -1)\n",
    "\n",
    "                for j in range(i):         \n",
    "                    if element in subsets[j]:\n",
    "                        bqm.add_interaction(i, j, 2)\n",
    "\n",
    "    return bqm"
   ]
  },
  {
   "cell_type": "code",
   "execution_count": null,
   "metadata": {},
   "outputs": [],
   "source": []
  },
  {
   "cell_type": "code",
   "execution_count": 14,
   "metadata": {},
   "outputs": [],
   "source": [
    "def build_subsets(n):\n",
    "    \"\"\"Returns a list of subsets of constraints corresponding to every\n",
    "    position on the chessboard.\n",
    "\n",
    "    Each constraint is represented by a unique number (ID). Each subset\n",
    "    should contain:\n",
    "    1) Exactly one column constraint ID (0 to n-1).\n",
    "    2) Exactly one row constraint ID (n to 2*n-1).\n",
    "    3) At most one diagonal (top-left to bottom-right) constraint ID (2*n to\n",
    "       4*n-4).\n",
    "    4) At most one anti-diagonal (bottom-left to top-right) constraint ID (4*n-3\n",
    "       to 6*n-7).\n",
    "    \"\"\"\n",
    "    subsets = []\n",
    "    for x in range(n):\n",
    "        for y in range(n):\n",
    "            col = x\n",
    "            row = y + n\n",
    "\n",
    "            subset = {col, row}\n",
    "\n",
    "            diag = x + y + (2*n - 1)\n",
    "            min_diag = 2*n\n",
    "            max_diag = 4*n - 4\n",
    "\n",
    "            if diag >= min_diag and diag <= max_diag:\n",
    "                subset.add(diag)\n",
    "\n",
    "            anti_diag = (n - 1 - x + y) + (4*n - 4)\n",
    "            min_anti_diag = 4*n - 3\n",
    "            max_anti_diag = 6*n - 7\n",
    "\n",
    "            if anti_diag >= min_anti_diag and anti_diag <= max_anti_diag:\n",
    "                subset.add(anti_diag)\n",
    "\n",
    "            subsets.append(subset)\n",
    "\n",
    "    return subsets\n",
    "\n",
    "def handle_diag_constraints(bqm, subsets, diag_constraints):\n",
    "    \"\"\"Update bqm with diagonal (and anti-diagonal) constraints.\n",
    "    Duplicates are penalized.\n",
    "    \"\"\"\n",
    "    for constraint in diag_constraints:\n",
    "        for i in range(len(subsets)):\n",
    "            if constraint in subsets[i]:\n",
    "                for j in range(i):\n",
    "                    if constraint in subsets[j]:\n",
    "                        bqm.add_interaction(i, j, 2)\n",
    "    return bqm"
   ]
  },
  {
   "cell_type": "code",
   "execution_count": 15,
   "metadata": {},
   "outputs": [],
   "source": [
    "def show_problem(qm):\n",
    "    q = qm.copy()\n",
    "    q.relabel_variables_as_integers(inplace=True)\n",
    "    m = q.to_numpy_matrix()\n",
    "    plt.imshow(m, cmap=\"RdBu\")\n",
    "    plt.colorbar()\n",
    "    plt.show()\n",
    "    return m"
   ]
  },
  {
   "cell_type": "code",
   "execution_count": 16,
   "metadata": {},
   "outputs": [],
   "source": [
    "def n_queens(n):\n",
    "    \"\"\"Returns a potential solution to the n-queens problem in a list of sets,\n",
    "    each containing constraint IDs representing a queen's location.\n",
    "\n",
    "    Args:\n",
    "        n: Number of queens to place.\n",
    "\n",
    "        sampler: A binary quadratic model sampler. Defaults to dwave-system's LeapHybridSampler.\n",
    "    \"\"\"\n",
    "    num_row_col_constraints = 2 * n\n",
    "    row_col_constraint_ids = set(range(num_row_col_constraints))\n",
    "\n",
    "    num_diag_constraints = 4 * n - 6   # includes anti-diag constraints\n",
    "    diag_constraint_ids = set(range(num_row_col_constraints, num_row_col_constraints + num_diag_constraints))\n",
    "\n",
    "    # Build subsets of constraint IDs. Each subset will become a variable in our BQM.\n",
    "    subsets = build_subsets(n)\n",
    "\n",
    "    # Build BQM with only row/col constraints\n",
    "    bqm = exact_cover_bqm(row_col_constraint_ids, subsets)\n",
    "\n",
    "    # Add diag/anti-diag constraints - duplicates are penalized.\n",
    "    bqm = handle_diag_constraints(bqm, subsets, diag_constraint_ids)\n",
    "\n",
    "    return bqm, subsets\n",
    "\n",
    "def solve_n_queens(bqm, sampler, num_reads=None):\n",
    "    if num_reads is None:\n",
    "        sampleset = sampler.sample(bqm, label='Example - N Queens')\n",
    "    else:\n",
    "        sampleset = sampler.sample(bqm, label='Example - N Queens', num_reads=num_reads)\n",
    "    # sample = sampleset.first.sample\n",
    "    return sampleset\n",
    "\n",
    "def get_solution_n_queens(sample, subsets):\n",
    "    return [subsets[i] for i in sample if sample[i]]"
   ]
  },
  {
   "cell_type": "code",
   "execution_count": 17,
   "metadata": {},
   "outputs": [],
   "source": [
    "def is_a_valid_solution(solution, size):\n",
    "    msg = \"\"\n",
    "    s = np.array(list(solution.values())).reshape((size,-1))\n",
    "\n",
    "    if not msg:\n",
    "        failed_tot_rows = np.sum(s, axis=1) > 1\n",
    "        if np.count_nonzero(failed_tot_rows):\n",
    "            msg = f\"More than 1 queen per row: {np.nonzero(failed_tot_rows)[0]}.\"\n",
    "\n",
    "    if not msg:\n",
    "        failed_tot_cols = np.sum(s, axis=0) > 1\n",
    "        if np.count_nonzero(failed_tot_cols):\n",
    "            msg = f\"More than 1 queen per column: {np.nonzero(failed_tot_cols)[0]}.\"\n",
    "\n",
    "    if not msg:\n",
    "        failed_tot_diags = [np.trace(s, k) > 1 for k in range(-size+1, size)]\n",
    "        if np.count_nonzero(failed_tot_diags):\n",
    "            msg = f\"More than 1 queen per diagonal: {np.nonzero(failed_tot_diags)[0]-size+1}.\"\n",
    "\n",
    "    if not msg:\n",
    "        fs = np.fliplr(s)\n",
    "        failed_tot_antidiags = [np.trace(fs, k) > 1 for k in range(-size+1, size)]\n",
    "        if np.count_nonzero(failed_tot_antidiags):\n",
    "            msg = f\"More than 1 queen per anti-diagonal: {-(np.nonzero(failed_tot_antidiags)[0]-size+1)}.\"\n",
    "\n",
    "    if not msg:\n",
    "        tot = np.sum(s)\n",
    "        if tot != size:\n",
    "            msg = f\"Not exactly {size} queens placed, but {tot}.\"\n",
    "\n",
    "    if msg:\n",
    "        ret = False\n",
    "    else:\n",
    "        msg = \"Solution is valid.\"\n",
    "        ret = True\n",
    "    return (ret, msg)\n",
    "    \n",
    "def show_solutions(solutions, size):\n",
    "    n = len(solutions)\n",
    "    fig, ax = plt.subplots(1, n, figsize=(5*n, 3))\n",
    "    if n ==1:\n",
    "        ax = (ax,)\n",
    "    for solution, iax in zip(solutions, ax):\n",
    "        valid, msg = is_a_valid_solution(solution, size)\n",
    "        s = np.array(list(solution.values())).reshape((size,-1))\n",
    "        iax.imshow(s)\n",
    "        iax.set_xticks(np.arange(-.5, size, 1))\n",
    "        iax.set_yticks(np.arange(-.5, size, 1))\n",
    "        iax.set_xticklabels(np.arange(0, size+1, 1))\n",
    "        iax.set_yticklabels(np.arange(0, size+1, 1))\n",
    "        iax.grid()\n",
    "        iax.set_title(f\"Num. Queens: {np.sum(s)} / {size}.\\nValid: {valid}\\n{msg}\")"
   ]
  },
  {
   "cell_type": "code",
   "execution_count": 18,
   "metadata": {},
   "outputs": [
    {
     "name": "stderr",
     "output_type": "stream",
     "text": [
      "ipykernel_launcher:4: DeprecationWarning: bqm.to_numpy_matrix() is deprecated since dimod 0.10.0\n"
     ]
    },
    {
     "data": {
      "image/png": "[encoded data removed]",
      "text/plain": [
       "<Figure size 432x288 with 2 Axes>"
      ]
     },
     "metadata": {
      "needs_background": "light"
     },
     "output_type": "display_data"
    }
   ],
   "source": [
    "n = 8\n",
    "num_reads_simu = 100\n",
    "num_reads_real = 1000\n",
    "num_reads_leap = 10\n",
    "\n",
    "bqm, subsets = n_queens(n)\n",
    "m = show_problem(bqm)"
   ]
  },
  {
   "cell_type": "code",
   "execution_count": 19,
   "metadata": {},
   "outputs": [
    {
     "data": {
      "image/png": "[encoded data removed]",
      "text/plain": [
       "<Figure size 432x288 with 1 Axes>"
      ]
     },
     "metadata": {
      "needs_background": "light"
     },
     "output_type": "display_data"
    }
   ],
   "source": [
    "plt.hist(m.reshape((-1,1)))\n",
    "plt.show()"
   ]
  },
  {
   "cell_type": "code",
   "execution_count": 20,
   "metadata": {},
   "outputs": [
    {
     "data": {
      "image/png": "[encoded data removed]",
      "text/plain": [
       "<Figure size 1800x216 with 5 Axes>"
      ]
     },
     "metadata": {
      "needs_background": "light"
     },
     "output_type": "display_data"
    }
   ],
   "source": [
    "sampleset_simu = solve_n_queens(bqm, sampler_simu, num_reads_simu)\n",
    "show_solutions(sampleset_simu.samples(5), n)"
   ]
  },
  {
   "cell_type": "code",
   "execution_count": 21,
   "metadata": {},
   "outputs": [
    {
     "data": {
      "image/png": "[encoded data removed]",
      "text/plain": [
       "<Figure size 1800x216 with 5 Axes>"
      ]
     },
     "metadata": {
      "needs_background": "light"
     },
     "output_type": "display_data"
    }
   ],
   "source": [
    "sampleset_real = solve_n_queens(bqm, sampler_real, num_reads_real)\n",
    "show_solutions(sampleset_real.samples(5), n)"
   ]
  },
  {
   "cell_type": "code",
   "execution_count": 22,
   "metadata": {},
   "outputs": [
    {
     "data": {
      "image/png": "[encoded data removed]",
      "text/plain": [
       "<Figure size 360x216 with 1 Axes>"
      ]
     },
     "metadata": {
      "needs_background": "light"
     },
     "output_type": "display_data"
    }
   ],
   "source": [
    "sampleset_leap = solve_n_queens(bqm, sampler_leap)\n",
    "show_solutions(sampleset_leap.samples(5), n)"
   ]
  },
  {
   "cell_type": "code",
   "execution_count": null,
   "metadata": {},
   "outputs": [],
   "source": []
  }
 ],
 "metadata": {
  "kernelspec": {
   "display_name": "Python 3",
   "language": "python",
   "name": "python3"
  },
  "language_info": {
   "codemirror_mode": {
    "name": "ipython",
    "version": 3
   },
   "file_extension": ".py",
   "mimetype": "text/x-python",
   "name": "python",
   "nbconvert_exporter": "python",
   "pygments_lexer": "ipython3",
   "version": "3.7.11"
  }
 },
 "nbformat": 4,
 "nbformat_minor": 4
}
