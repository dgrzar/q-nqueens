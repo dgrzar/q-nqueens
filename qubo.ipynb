{
 "cells": [
  {
   "cell_type": "markdown",
   "metadata": {},
   "source": [
    "# N-Queens"
   ]
  },
  {
   "cell_type": "markdown",
   "metadata": {},
   "source": [
    "Cost function:\n",
    "\n",
    "\n",
    "$\\begin{equation}\n",
    "f(x) =  -\\sum_i^n \\sum_j^n x_{i,j} + \\lambda_1(\\sum_{i}^n \\sum_{j}^n x_{i,j} - N)^2 + \\lambda_2\\sum_{i_1}^n \\sum_{i_2}^n \\sum_{i_3}^n \\sum_{i_4}^n J_{i_1,i_2,i_3,i_4}x_{i_1,i_2}x_{i_3,i_4}\n",
    "\\end{equation}$\n",
    "\n",
    "Where $x_{ij}$ = 1 if cell (i,j) contains a queen, 0 otherwise.\n",
    "\n",
    "The second term, weighted by $\\lambda_1$, comes from the constraint that there should be exactly N queens.\n",
    "\n",
    "The last term, weighted by $\\lambda_2$, comes from the constraint that no two queens should attack eachother.\n",
    "$J_{i_1,i_2,i_3,i_4}$ = 1 if cells $(i_1,i_2)$ y $(i_3, i_4)$ are connected, 0 otherwise.\n",
    "\n",
    "Expansion of the second term yields linear terms ($x_{ij}$ and $x_{ij}²$) with coefficients $1-2N$, and quadratic terms ($x_{ij}x_{kl}$) with coefficients $2$ (plus a constant term, $N^2$, that can be ommited).\n",
    "\n",
    "Inclusion of the constraint that there should be exactly N queens (second term) makes much more probable to obtain solutions with exactly N queens, specially for large N. This allows to reduce the number of samples considerably (by orders of magnitude)."
   ]
  },
  {
   "cell_type": "code",
   "execution_count": 629,
   "metadata": {},
   "outputs": [],
   "source": [
    "def q_dict_from_qubo(Q):\n",
    "    q_dict = {}\n",
    "    for i in Q:\n",
    "        if len(i) == 1:\n",
    "            q_dict[(i[0],i[0])] = Q[i]\n",
    "        else:\n",
    "            q_dict[i] = Q[i]\n",
    "    return q_dict"
   ]
  },
  {
   "cell_type": "code",
   "execution_count": 630,
   "metadata": {},
   "outputs": [],
   "source": [
    "def print_solution(solution):\n",
    "    n_queens = 0\n",
    "    for i in range(size):\n",
    "        for j in range(size):\n",
    "            if solution[f\"x_{i}_{j}\"] == 0:\n",
    "                print(\"O\", end = \" \")\n",
    "            else:\n",
    "                n_queens += 1\n",
    "                print(\"X\", end = \" \")\n",
    "        print()\n",
    "    print(f\"num. queens: {n_queens} / {size}\")"
   ]
  },
  {
   "cell_type": "code",
   "execution_count": 631,
   "metadata": {},
   "outputs": [],
   "source": [
    "import qubovert\n",
    "\n",
    "size = 8 # NxN board, up to N queens.\n",
    "\n",
    "# Penalties for constraints.\n",
    "lagrange_attack = 2*size # ** 2\n",
    "lagrange_exact_n = size\n",
    "\n",
    "# Samples and problem label.\n",
    "num_reads_simu = 10\n",
    "num_reads_real = 100\n",
    "problem_label_simu = f\"N-queens size {size}, {num_reads_simu} num_reads\"\n",
    "problem_label_real = f\"N-queens size {size}, {num_reads_real} num_reads\"\n",
    "\n",
    "# Create vars.\n",
    "Q = qubovert.QUBO()\n",
    "for i in range(size):\n",
    "    for j in range(size):\n",
    "        Q.create_var(f\"x_{i}_{j}\")\n"
   ]
  },
  {
   "cell_type": "code",
   "execution_count": 632,
   "metadata": {},
   "outputs": [],
   "source": [
    "# Build cost function: 1/2.\n",
    "\n",
    "#  - Cost function: Add as many queens as possible: lin_term = -1\n",
    "#  - Penalty: Add exactly N queens: lin_term = lagrange*(1-2N)\n",
    "lin_term = -1\n",
    "lin_term_penalty = lagrange_exact_n * (1 - 2*size)\n",
    "for i in range(size):\n",
    "    for j in range(size):\n",
    "        idx = (f\"x_{i}_{j}\",)\n",
    "        Q[idx] = lin_term + lin_term_penalty\n"
   ]
  },
  {
   "cell_type": "code",
   "execution_count": 633,
   "metadata": {},
   "outputs": [],
   "source": [
    "# Build cost function: 2/2.\n",
    "#  - Penalty: Add exactly N queens: cross_term = +2\n",
    "#  - Penalize any two queens attacking eachother.\n",
    "penalty_num = lagrange_exact_n * 2\n",
    "penalty_attack =  lagrange_attack * 1\n",
    "for i1 in range(size):\n",
    "    for i2 in range(size):\n",
    "        for i3 in range(size):\n",
    "            for i4 in range(size):\n",
    "                if not (i1 == i3 and i2 == i4):\n",
    "                    idx = (f\"x_{i1}_{i2}\", f\"x_{i3}_{i4}\")\n",
    "                    term = 0\n",
    "                    # From the requirement \"Add exactly N queens\".\n",
    "                    term += penalty_num\n",
    "                    if i1 == i3 or i2 == i4 or i1 - i3 == i2 - i4 or i1 - i3 == i4 - i2:\n",
    "                        term += penalty_attack\n",
    "                    Q[idx] = term"
   ]
  },
  {
   "cell_type": "code",
   "execution_count": 634,
   "metadata": {},
   "outputs": [
    {
     "data": {
      "text/plain": [
       "(32, 32)"
      ]
     },
     "execution_count": 634,
     "metadata": {},
     "output_type": "execute_result"
    }
   ],
   "source": [
    "Q[('x_0_0', 'x_0_1')], Q[('x_0_1', 'x_0_0')]"
   ]
  },
  {
   "cell_type": "code",
   "execution_count": 635,
   "metadata": {},
   "outputs": [
    {
     "data": {
      "text/plain": [
       "2080"
      ]
     },
     "execution_count": 635,
     "metadata": {},
     "output_type": "execute_result"
    }
   ],
   "source": [
    "len(Q) # 326 for size=6"
   ]
  },
  {
   "cell_type": "code",
   "execution_count": 636,
   "metadata": {},
   "outputs": [
    {
     "data": {
      "text/plain": [
       "(32, None)"
      ]
     },
     "execution_count": 636,
     "metadata": {},
     "output_type": "execute_result"
    }
   ],
   "source": [
    "q_dict = q_dict_from_qubo(Q)\n",
    "q_dict.get(('x_0_0', 'x_0_1')), q_dict.get(('x_0_1', 'x_0_0')), # 36, None for size=6"
   ]
  },
  {
   "cell_type": "code",
   "execution_count": 637,
   "metadata": {},
   "outputs": [],
   "source": [
    "from neal import SimulatedAnnealingSampler\n",
    "\n",
    "sampler_simu = SimulatedAnnealingSampler()"
   ]
  },
  {
   "cell_type": "code",
   "execution_count": 638,
   "metadata": {},
   "outputs": [
    {
     "name": "stdout",
     "output_type": "stream",
     "text": [
      "CPU times: user 35.7 ms, sys: 0 ns, total: 35.7 ms\n",
      "Wall time: 34 ms\n"
     ]
    }
   ],
   "source": [
    "%%time\n",
    "sampleset_simu = sampler_simu.sample_qubo(q_dict, label=problem_label_simu, num_reads=num_reads_simu)"
   ]
  },
  {
   "cell_type": "code",
   "execution_count": 639,
   "metadata": {},
   "outputs": [
    {
     "name": "stdout",
     "output_type": "stream",
     "text": [
      "O O X O O O O O \n",
      "O O O O O X O O \n",
      "O O O O O O O X \n",
      "X O O O O O O O \n",
      "O O O O X O O O \n",
      "O O O O O O X O \n",
      "O X O O O O O O \n",
      "O O O X O O O O \n",
      "num. queens: 8 / 8\n"
     ]
    }
   ],
   "source": [
    "solution_simu = sampleset_simu.first.sample\n",
    "print_solution(solution_simu)"
   ]
  },
  {
   "cell_type": "code",
   "execution_count": 640,
   "metadata": {},
   "outputs": [
    {
     "data": {
      "text/plain": [
       "(32, None)"
      ]
     },
     "execution_count": 640,
     "metadata": {},
     "output_type": "execute_result"
    }
   ],
   "source": [
    "q_dict = q_dict_from_qubo(Q)\n",
    "q_dict.get(('x_0_0', 'x_0_1')), q_dict.get(('x_0_1', 'x_0_0')), # 36, None for size=6"
   ]
  },
  {
   "cell_type": "code",
   "execution_count": 641,
   "metadata": {},
   "outputs": [],
   "source": [
    "from dwave.system import DWaveSampler, EmbeddingComposite\n",
    "\n",
    "sampler_real = EmbeddingComposite(DWaveSampler())"
   ]
  },
  {
   "cell_type": "code",
   "execution_count": 642,
   "metadata": {},
   "outputs": [
    {
     "name": "stdout",
     "output_type": "stream",
     "text": [
      "CPU times: user 21.1 s, sys: 157 ms, total: 21.3 s\n",
      "Wall time: 20.9 s\n"
     ]
    }
   ],
   "source": [
    "%%time\n",
    "sampleset_real = sampler_real.sample_qubo(q_dict, label=problem_label_real, num_reads=num_reads_real)"
   ]
  },
  {
   "cell_type": "code",
   "execution_count": 643,
   "metadata": {},
   "outputs": [
    {
     "name": "stdout",
     "output_type": "stream",
     "text": [
      "O O O O X X O O \n",
      "O X O O O O O O \n",
      "O O O O O O O O \n",
      "O O O O O O X X \n",
      "O O X O O O O O \n",
      "O O O O O O O O \n",
      "O O O O O O O O \n",
      "X O O O O O O O \n",
      "num. queens: 7 / 8\n"
     ]
    }
   ],
   "source": [
    "solution_real = sampleset_real.first.sample\n",
    "print_solution(solution_real)"
   ]
  },
  {
   "cell_type": "code",
   "execution_count": null,
   "metadata": {},
   "outputs": [],
   "source": []
  }
 ],
 "metadata": {
  "kernelspec": {
   "display_name": "Python 3",
   "language": "python",
   "name": "python3"
  },
  "language_info": {
   "codemirror_mode": {
    "name": "ipython",
    "version": 3
   },
   "file_extension": ".py",
   "mimetype": "text/x-python",
   "name": "python",
   "nbconvert_exporter": "python",
   "pygments_lexer": "ipython3",
   "version": "3.7.11"
  }
 },
 "nbformat": 4,
 "nbformat_minor": 4
}
