{
 "cells": [
  {
   "cell_type": "markdown",
   "metadata": {},
   "source": [
    "# Problema de las N-Reinas 2.0"
   ]
  },
  {
   "cell_type": "markdown",
   "metadata": {},
   "source": [
    "[Note: from https://github.com/KetpuntoG/Notebooks-del-canal/blob/master/N-Queens%20Problem/N-Reinas%202.0.ipynb]\n",
    "\n",
    "Explicación del problema: https://youtu.be/ZGKSoTUaphU\n",
    "\n",
    "\n",
    "Explicación del código: https://youtu.be/3wVwpPzoyDs\n",
    "\n",
    "\n",
    "Nuestra función a minimizar será:\n",
    "\n",
    "\n",
    "$\\begin{equation}\n",
    "f(x) =  -\\sum_i^n \\sum_j^n x_{i,j} +   \\lambda\\sum_{i_1}^n \\sum_{i_2}^n \\sum_{i_3}^n \\sum_{i_4}^n J_{i_1,i_2,i_3,i_4}x_{i_1,i_2}x_{i_3,i_4}\n",
    "\\end{equation}$\n",
    "\n",
    "donde $x_{ij}$ valdrá 1 si en la casilla (i,j) hay una dama y 0 si no.\n",
    "\n",
    "Daremos además a $J_{i_1,i_2,i_3,i_4}$ el valor 1 si las casillas $(i_1,i_2)$ y $(i_3, i_4)$ están conectadas y 0 en otro caso."
   ]
  },
  {
   "cell_type": "code",
   "execution_count": 1,
   "metadata": {},
   "outputs": [],
   "source": [
    "import qubovert\n",
    "\n",
    "size = 6\n",
    "lagrange = size ** 2\n",
    "\n",
    "# Creamos las variables de nuestro modelo\n",
    "Q = qubovert.QUBO()\n",
    "for i in range(size):\n",
    "    for j in range(size):\n",
    "        Q.create_var(f\"x_{i}_{j}\")\n",
    "        \n",
    "# Añadimos el primer bloque de la función objetivo\n",
    "for i in range(size):\n",
    "    for j in range(size):\n",
    "        Q[(f\"x_{i}_{j}\",)] = -1\n",
    "        \n",
    "# Incluimos las restricciones finales\n",
    "for i1 in range(size):\n",
    "    for i2 in range(size):\n",
    "        for i3 in range(size):\n",
    "            for i4 in range(size):\n",
    "                if i1 == i3 or i2 == i4 or i1 - i3 == i2 - i4 or i1 - i3 == i4 - i2:\n",
    "                    if not (i1 == i3 and i2 == i4):\n",
    "                        Q[(f\"x_{i1}_{i2}\", f\"x_{i3}_{i4}\")] = lagrange\n",
    "                "
   ]
  },
  {
   "cell_type": "code",
   "execution_count": 4,
   "metadata": {},
   "outputs": [],
   "source": [
    "dwave_dic = {}\n",
    "for i in Q:\n",
    "    if len(i) == 1:\n",
    "        dwave_dic[(i[0],i[0])] = Q[i]\n",
    "    else:\n",
    "        dwave_dic[i] = Q[i]"
   ]
  },
  {
   "cell_type": "code",
   "execution_count": 5,
   "metadata": {},
   "outputs": [],
   "source": [
    "from neal import SimulatedAnnealingSampler\n",
    "#from dwave.system import DWaveSampler, EmbeddingComposite\n",
    "\n",
    "\n",
    "n_samples = 2000 # número de veces que ejecutamos el sistema\n",
    "\n",
    "\n",
    "sampler = SimulatedAnnealingSampler()\n",
    "#sampler = EmbeddingComposite(DWaveSampler())\n",
    "\n",
    "sampleset = sampler.sample_qubo(dwave_dic, num_reads = n_samples)\n",
    "solution = sampleset.first.sample"
   ]
  },
  {
   "cell_type": "code",
   "execution_count": 6,
   "metadata": {},
   "outputs": [
    {
     "name": "stdout",
     "output_type": "stream",
     "text": [
      "O O O X O O \n",
      "X O O O O O \n",
      "O O O O X O \n",
      "O X O O O O \n",
      "O O O O O X \n",
      "O O X O O O \n"
     ]
    }
   ],
   "source": [
    "for i in range(size):\n",
    "    for j in range(size):\n",
    "        if solution[f\"x_{i}_{j}\"] == 0:\n",
    "            print(\"O\", end = \" \")\n",
    "        else:\n",
    "            print(\"X\", end = \" \")\n",
    "    print()"
   ]
  },
  {
   "cell_type": "code",
   "execution_count": null,
   "metadata": {},
   "outputs": [],
   "source": []
  }
 ],
 "metadata": {
  "kernelspec": {
   "display_name": "Python 3",
   "language": "python",
   "name": "python3"
  },
  "language_info": {
   "codemirror_mode": {
    "name": "ipython",
    "version": 3
   },
   "file_extension": ".py",
   "mimetype": "text/x-python",
   "name": "python",
   "nbconvert_exporter": "python",
   "pygments_lexer": "ipython3",
   "version": "3.7.11"
  }
 },
 "nbformat": 4,
 "nbformat_minor": 4
}
