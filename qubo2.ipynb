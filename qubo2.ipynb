{
 "cells": [
  {
   "cell_type": "markdown",
   "metadata": {},
   "source": [
    "# N-Queens"
   ]
  },
  {
   "cell_type": "markdown",
   "metadata": {},
   "source": [
    "Cost function:\n",
    "\n",
    "\n",
    "$\\begin{equation}\n",
    "f(x) =  -\\sum_i^n \\sum_j^n x_{i,j} + \\lambda_1(\\sum_{i}^n \\sum_{j}^n x_{i,j} - N)^2 + \\lambda_2\\sum_{i_1}^n \\sum_{i_2}^n \\sum_{i_3}^n \\sum_{i_4}^n J_{i_1,i_2,i_3,i_4}x_{i_1,i_2}x_{i_3,i_4}\n",
    "\\end{equation}$\n",
    "\n",
    "Where $x_{ij}$ = 1 if cell (i,j) contains a queen, 0 otherwise.\n",
    "\n",
    "The second term, weighted by $\\lambda_1$, comes from the constraint that there should be exactly N queens.\n",
    "\n",
    "The last term, weighted by $\\lambda_2$, comes from the constraint that no two queens should attack eachother.\n",
    "$J_{i_1,i_2,i_3,i_4}$ = 1 if cells $(i_1,i_2)$ y $(i_3, i_4)$ are connected, 0 otherwise.\n",
    "\n",
    "Expansion of the second term yields linear terms ($x_{ij}$ and $x_{ij}²$) with coefficients $1-2N$, and quadratic terms ($x_{ij}x_{kl}$) with coefficients $2$ (plus a constant term, $N^2$, that can be ommited).\n",
    "\n",
    "Inclusion of the constraint that there should be exactly N queens (second term) makes much more probable to obtain solutions with exactly N queens, specially for large N. This allows to reduce the number of samples considerably (by orders of magnitude)."
   ]
  },
  {
   "cell_type": "code",
   "execution_count": 149,
   "metadata": {},
   "outputs": [],
   "source": [
    "import numpy as np\n",
    "import matplotlib.pyplot as plt\n",
    "import itertools\n",
    "from collections import Counter\n",
    "\n",
    "import dimod\n",
    "from dimod import BinaryQuadraticModel\n",
    "\n",
    "from neal import SimulatedAnnealingSampler\n",
    "from dwave.system import DWaveSampler, EmbeddingComposite, LeapHybridSampler\n",
    "\n",
    "sampler_simu = SimulatedAnnealingSampler()\n",
    "sampler_real = EmbeddingComposite(DWaveSampler())\n",
    "sampler_leap = LeapHybridSampler()"
   ]
  },
  {
   "cell_type": "code",
   "execution_count": 150,
   "metadata": {},
   "outputs": [],
   "source": [
    "# [s.properties.keys() for s in (sampler_simu, sampler_real, sampler_leap)]"
   ]
  },
  {
   "cell_type": "code",
   "execution_count": 151,
   "metadata": {},
   "outputs": [],
   "source": [
    "def get_rows(size):\n",
    "    return range(size)\n",
    "\n",
    "def get_vars(size):\n",
    "    rows = get_rows(size)\n",
    "    return itertools.product(rows, rows)\n",
    "\n",
    "def get_pairs(size):\n",
    "    return itertools.combinations(get_vars(size), 2)"
   ]
  },
  {
   "cell_type": "code",
   "execution_count": 152,
   "metadata": {},
   "outputs": [],
   "source": [
    "def is_valid_solution(solution, size):\n",
    "    msg = \"\"\n",
    "    s = np.array(list(solution.values())).reshape((size,-1))\n",
    "\n",
    "    if not msg:\n",
    "        failed_tot_rows = np.sum(s, axis=1) > 1\n",
    "        if np.count_nonzero(failed_tot_rows):\n",
    "            msg = f\"More than 1 queen per row: {np.nonzero(failed_tot_rows)[0]}.\"\n",
    "\n",
    "    if not msg:\n",
    "        failed_tot_cols = np.sum(s, axis=0) > 1\n",
    "        if np.count_nonzero(failed_tot_cols):\n",
    "            msg = f\"More than 1 queen per column: {np.nonzero(failed_tot_cols)[0]}.\"\n",
    "\n",
    "    if not msg:\n",
    "        failed_tot_diags = [np.trace(s, k) > 1 for k in range(-size+1, size)]\n",
    "        if np.count_nonzero(failed_tot_diags):\n",
    "            msg = f\"More than 1 queen per diagonal: {np.nonzero(failed_tot_diags)[0]-size+1}.\"\n",
    "\n",
    "    if not msg:\n",
    "        fs = np.fliplr(s)\n",
    "        failed_tot_antidiags = [np.trace(fs, k) > 1 for k in range(-size+1, size)]\n",
    "        if np.count_nonzero(failed_tot_antidiags):\n",
    "            msg = f\"More than 1 queen per anti-diagonal: {-(np.nonzero(failed_tot_antidiags)[0]-size+1)}.\"\n",
    "\n",
    "    if not msg:\n",
    "        tot = np.sum(s)\n",
    "        if tot != size:\n",
    "            msg = f\"Not exactly {size} queens placed, but {tot}.\"\n",
    "\n",
    "    if msg:\n",
    "        ret = False\n",
    "    else:\n",
    "        msg = \"Solution is valid.\"\n",
    "        ret = True\n",
    "    return (ret, msg)"
   ]
  },
  {
   "cell_type": "code",
   "execution_count": 153,
   "metadata": {},
   "outputs": [],
   "source": [
    "def show_solutions(solutions, size):\n",
    "    n = len(solutions)\n",
    "    fig, ax = plt.subplots(1, n, figsize=(5*n, 3))\n",
    "    if n ==1:\n",
    "        ax = (ax,)\n",
    "    for solution, iax in zip(solutions, ax):\n",
    "        valid, msg = is_valid_solution(solution, size)\n",
    "        s = np.array(list(solution.values())).reshape((size,-1))\n",
    "        iax.imshow(s)\n",
    "        iax.set_xticks(np.arange(-.5, size, 1))\n",
    "        iax.set_yticks(np.arange(-.5, size, 1))\n",
    "        iax.set_xticklabels(np.arange(0, size+1, 1))\n",
    "        iax.set_yticklabels(np.arange(0, size+1, 1))\n",
    "        iax.grid()\n",
    "        iax.set_title(f\"Num. Queens: {np.sum(s)} / {size}.\\nValid: {valid}\\n{msg}\")"
   ]
  },
  {
   "cell_type": "code",
   "execution_count": 154,
   "metadata": {},
   "outputs": [],
   "source": [
    "def get_qm(size, lin_term, lagrange_attack, lagrange_exact_n):\n",
    "    qm = dimod.BinaryQuadraticModel(\"BINARY\")\n",
    "\n",
    "    if lin_term:\n",
    "        # Enumerate all states and assign linear coefficient. The more negative, the less energy and the more favoured. \n",
    "        qubo_dict_linears = {c:lin_term for c in get_vars(size)}\n",
    "        qm.add_linear_from(qubo_dict_linears)\n",
    "\n",
    "    if lagrange_attack:\n",
    "        # Enumerate pairs along same row, column or (anti)diagonal, and assign the quadratic coefficient.\n",
    "        qubo_dict_quadratic_attack = {c: lagrange_attack for c in get_pairs(size) if (\n",
    "                c[0][0] == c[1][0] or\n",
    "                c[0][1] == c[1][1] or\n",
    "                c[0][0] - c[1][0] == c[0][1] - c[1][1] or\n",
    "                c[0][0] - c[1][0] == c[1][1] - c[0][1]\n",
    "            )\n",
    "        }\n",
    "        qm.add_quadratic_from(qubo_dict_quadratic_attack)\n",
    "\n",
    "    # QUBO model that represents the constraint: exactly N queens. Applying penalty factor.\n",
    "    if lagrange_exact_n:\n",
    "        # One single condition: Exactly N queens in total.\n",
    "        # q = dimod.generators.combinations(list(get_vars(size)), size, strength=lagrange_exact_n)\n",
    "        # qm.update(q)\n",
    "        for j in range(size):\n",
    "            # Several constraints: exactly 1 queen per row, per column. (TODO: for (anti)diagonals, 0 or 1 queens)\n",
    "            q = dimod.generators.combinations(list(filter(lambda x: x[0]==j, get_vars(size))), 1, strength=lagrange_exact_n)\n",
    "            qm.update(q)\n",
    "            q = dimod.generators.combinations(list(filter(lambda x: x[1]==j, get_vars(size))), 1, strength=lagrange_exact_n)\n",
    "            qm.update(q)\n",
    "    return qm"
   ]
  },
  {
   "cell_type": "code",
   "execution_count": 155,
   "metadata": {},
   "outputs": [],
   "source": [
    "def show_problem(qm):\n",
    "    q = qm.copy()\n",
    "    q.relabel_variables_as_integers(inplace=True)\n",
    "    m = q.to_numpy_matrix()\n",
    "    plt.imshow(m, cmap=\"RdBu\")\n",
    "    plt.colorbar()\n",
    "    return m"
   ]
  },
  {
   "cell_type": "code",
   "execution_count": 156,
   "metadata": {},
   "outputs": [],
   "source": [
    "N = 8 # NxN board, up to N queens.\n",
    "\n",
    "# Samples and problem label.\n",
    "num_reads_simu = 10\n",
    "num_reads_real = 4_000\n",
    "num_reads_leap = None\n",
    "problem_label_simu = f\"N-queens size {N} (simu), {num_reads_simu} num_reads\"\n",
    "problem_label_real = f\"N-queens size {N} (real), {num_reads_real} num_reads\"\n",
    "problem_label_leap = f\"N-queens size {N} (leap), {num_reads_real} num_reads\""
   ]
  },
  {
   "cell_type": "code",
   "execution_count": 157,
   "metadata": {},
   "outputs": [
    {
     "name": "stderr",
     "output_type": "stream",
     "text": [
      "/home/casa/anaconda3/envs/dwave_ocean_extra/lib/python3.7/site-packages/ipykernel_launcher.py:4: DeprecationWarning: bqm.to_numpy_matrix() is deprecated since dimod 0.10.0\n",
      "  after removing the cwd from sys.path.\n"
     ]
    },
    {
     "data": {
      "image/png": "[encoded data removed]",
      "text/plain": [
       "<Figure size 432x288 with 2 Axes>"
      ]
     },
     "metadata": {
      "needs_background": "light"
     },
     "output_type": "display_data"
    }
   ],
   "source": [
    "# Base cost function - Add as many queens as possible: lin_term = -1.\n",
    "lin_term = -1 * 2\n",
    "\n",
    "# Constraint: Penalize not placing exactly n queens / 1 queen per row and column.\n",
    "lagrange_exact_n = 1 * 0\n",
    "\n",
    "# Constraint: Penalize any two queens attacking eachother.\n",
    "lagrange_attack = 1 * 2\n",
    "\n",
    "# Best results\n",
    "# - for the real sampler: lin_term=2, lagrange_exact_n=0, lagrange_attack=2 with >4000 reads. Find 1 or 2 valid solutions at most.\n",
    "# - for the hybrid sampler: almost always finds a valid solution\n",
    "\n",
    "\n",
    "# Build the Binary Quadratic Model.\n",
    "qm = get_qm(N, lin_term, lagrange_attack, lagrange_exact_n)\n",
    "m = show_problem(qm)"
   ]
  },
  {
   "cell_type": "code",
   "execution_count": 158,
   "metadata": {},
   "outputs": [
    {
     "name": "stdout",
     "output_type": "stream",
     "text": [
      "2.0\n"
     ]
    },
    {
     "data": {
      "image/png": "[encoded data removed]",
      "text/plain": [
       "<Figure size 432x288 with 1 Axes>"
      ]
     },
     "metadata": {
      "needs_background": "light"
     },
     "output_type": "display_data"
    }
   ],
   "source": [
    "print(np.max(m))\n",
    "plt.hist(m.reshape((-1,1)))\n",
    "plt.show()"
   ]
  },
  {
   "cell_type": "code",
   "execution_count": 160,
   "metadata": {},
   "outputs": [
    {
     "name": "stdout",
     "output_type": "stream",
     "text": [
      "CPU times: user 298 ms, sys: 3.8 ms, total: 302 ms\n",
      "Wall time: 298 ms\n"
     ]
    },
    {
     "data": {
      "image/png": "[encoded data removed]",
      "text/plain": [
       "<Figure size 1800x216 with 5 Axes>"
      ]
     },
     "metadata": {
      "needs_background": "light"
     },
     "output_type": "display_data"
    }
   ],
   "source": [
    "%%time\n",
    "# Run on Simulator.\n",
    "sampleset_simu = sampler_simu.sample(qm, label=problem_label_simu, num_reads=num_reads_simu)\n",
    "# solution_simu = sampleset_simu.first.sample\n",
    "show_solutions(sampleset_simu.samples(5), N)"
   ]
  },
  {
   "cell_type": "code",
   "execution_count": 161,
   "metadata": {},
   "outputs": [
    {
     "name": "stdout",
     "output_type": "stream",
     "text": [
      "CPU times: user 21.6 s, sys: 149 ms, total: 21.8 s\n",
      "Wall time: 26.6 s\n"
     ]
    },
    {
     "data": {
      "image/png": "[encoded data removed]",
      "text/plain": [
       "<Figure size 1800x216 with 5 Axes>"
      ]
     },
     "metadata": {
      "needs_background": "light"
     },
     "output_type": "display_data"
    }
   ],
   "source": [
    "%%time\n",
    "# Run on Real Annealer.\n",
    "sampleset_real = sampler_real.sample(qm, label=problem_label_real, num_reads=num_reads_real)\n",
    "# solution_real = sampleset_real.first.sample\n",
    "show_solutions(sampleset_real.samples(5), N)"
   ]
  },
  {
   "cell_type": "code",
   "execution_count": 163,
   "metadata": {},
   "outputs": [
    {
     "name": "stdout",
     "output_type": "stream",
     "text": [
      "Minimum time limit required: 3.0\n",
      "CPU times: user 266 ms, sys: 25 ms, total: 291 ms\n",
      "Wall time: 17.1 s\n"
     ]
    },
    {
     "data": {
      "image/png": "[encoded data removed]",
      "text/plain": [
       "<Figure size 360x216 with 1 Axes>"
      ]
     },
     "metadata": {
      "needs_background": "light"
     },
     "output_type": "display_data"
    }
   ],
   "source": [
    "%%time\n",
    "# Run on Leap Hybrid solver.\n",
    "time_limit = sampler_leap.min_time_limit(qm)\n",
    "print(f\"Minimum time limit required: {time_limit}\")\n",
    "sampleset_leap = sampler_leap.sample(qm, label=problem_label_leap)\n",
    "# solution_leap = sampleset_leap.first.sample\n",
    "show_solutions(sampleset_leap.samples(5), N)"
   ]
  },
  {
   "cell_type": "code",
   "execution_count": null,
   "metadata": {},
   "outputs": [],
   "source": []
  }
 ],
 "metadata": {
  "kernelspec": {
   "display_name": "Python 3",
   "language": "python",
   "name": "python3"
  },
  "language_info": {
   "codemirror_mode": {
    "name": "ipython",
    "version": 3
   },
   "file_extension": ".py",
   "mimetype": "text/x-python",
   "name": "python",
   "nbconvert_exporter": "python",
   "pygments_lexer": "ipython3",
   "version": "3.7.11"
  }
 },
 "nbformat": 4,
 "nbformat_minor": 4
}
